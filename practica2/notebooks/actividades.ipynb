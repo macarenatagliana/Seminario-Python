{
 "cells": [
  {
   "cell_type": "code",
   "execution_count": 1,
   "metadata": {},
   "outputs": [],
   "source": [
    "import sys\n",
    "import os\n",
    "esta = False\n",
    "pp=f\"practica2\\\\src\"\n",
    "for p in sys.path:\n",
    "    if pp in p:\n",
    "        esta=True\n",
    "if not esta:\n",
    "    sys.path.append(os.path.abspath(\"../src\"))\n",
    "\n",
    "from funciones import *"
   ]
  },
  {
   "cell_type": "markdown",
   "metadata": {},
   "source": [
    "EJERCICIO 1: Análisis del Zen de Python\n",
    "\n",
    "Copie el texto del Zen de Python en una variable e imprima todas las líneas cuya segunda\n",
    "palabra comience con una vocal (A, E, I, O, U, a, e, i, o, u).\n",
    "\n"
   ]
  },
  {
   "cell_type": "code",
   "execution_count": 2,
   "metadata": {},
   "outputs": [
    {
     "name": "stdout",
     "output_type": "stream",
     "text": [
      "Beautiful is better than ugly.\n",
      "Explicit is better than implicit.\n",
      "Simple is better than complex.\n",
      "Complex is better than complicated.\n",
      "Flat is better than nested.\n",
      "Sparse is better than dense.\n",
      "Unless explicitly silenced.\n",
      "Now is better than never.\n",
      "Namespaces are one honking great idea -- let's do more of those!\n"
     ]
    }
   ],
   "source": [
    "zen_text = \"\"\"The Zen of Python, by Tim Peters\n",
    "\n",
    "Beautiful is better than ugly.\n",
    "Explicit is better than implicit.\n",
    "Simple is better than complex.\n",
    "Complex is better than complicated.\n",
    "Flat is better than nested.\n",
    "Sparse is better than dense.\n",
    "Readability counts.\n",
    "Special cases aren't special enough to break the rules.\n",
    "Although practicality beats purity.\n",
    "Errors should never pass silently.\n",
    "Unless explicitly silenced.\n",
    "In the face of ambiguity, refuse the temptation to guess.\n",
    "There should be one-- and preferably only one --obvious way to do it.\n",
    "Although that way may not be obvious at first unless you're Dutch.\n",
    "Now is better than never.\n",
    "Although never is often better than *right* now.\n",
    "If the implementation is hard to explain, it's a bad idea.\n",
    "If the implementation is easy to explain, it may be a good idea.\n",
    "Namespaces are one honking great idea -- let's do more of those!\"\"\"\n",
    "\n",
    "\n",
    "\n",
    "\n",
    "analisis_zen(zen_text)"
   ]
  },
  {
   "cell_type": "markdown",
   "metadata": {},
   "source": [
    "EJERCICIO 2: Título más largo.\n",
    "\n",
    "Encuentre el título con más palabras y muéstrelo en pantalla.\n"
   ]
  },
  {
   "cell_type": "code",
   "execution_count": null,
   "metadata": {},
   "outputs": [
    {
     "name": "stdout",
     "output_type": "stream",
     "text": [
      "El título más largo es:   Jugando al nuevo FPS del momento con amigos\n"
     ]
    }
   ],
   "source": [
    "titles = [\n",
    "    \"Speedrun de Super Mario en tiempo récord\",\n",
    "    \"Charla sobre desarrollo de videojuegos\",\n",
    "    \"Jugando al nuevo FPS del momento con amigos\",\n",
    "    \"Música en vivo: improvisaciones al piano\"]\n",
    "\n",
    "print(\"El título más largo es:  \" ,max(titles, key=len))\n",
    "\n"
   ]
  },
  {
   "cell_type": "markdown",
   "metadata": {},
   "source": [
    "Ejercicio 3: Código de conducta\n",
    "\n",
    "Solicite una palabra clave al usuario e imprima todas las reglas que la contengan."
   ]
  },
  {
   "cell_type": "code",
   "execution_count": 12,
   "metadata": {},
   "outputs": [
    {
     "name": "stdout",
     "output_type": "stream",
     "text": [
      "    Usa los canales adecuados para cada tema.\n"
     ]
    }
   ],
   "source": [
    "rules = \"\"\"Respeta a los demás. No se permiten insultos ni lenguaje\n",
    "    ofensivo.\n",
    "    Evita el spam. No publiques enlaces sospechosos o repetitivos.\n",
    "    No compartas información personal.\n",
    "    Usa los canales adecuados para cada tema.\n",
    "    Sigue las instrucciones de los moderadores.\"\"\"\n",
    "\n",
    "palabra_ingresada = input(\"Ingrese una palabra clave: \")\n",
    "\n",
    "codigo_conducta(palabra_ingresada, rules)"
   ]
  },
  {
   "cell_type": "markdown",
   "metadata": {},
   "source": [
    "Ejercicio 4: Validación de nombre de usuario\n",
    "\n",
    "Valide un nombre de usuario con los siguientes criterios:\n",
    "\n",
    "-Al menos 5 caracteres.\n",
    "-Contiene al menos un número.\n",
    "-Contiene al menos una letra mayúscula.\n",
    "-Solo puede contener letras y números.\n"
   ]
  },
  {
   "cell_type": "code",
   "execution_count": null,
   "metadata": {},
   "outputs": [
    {
     "name": "stdout",
     "output_type": "stream",
     "text": [
      "El nombre de usuario no cumple con los requisitos.\n"
     ]
    }
   ],
   "source": [
    "\n",
    "palabra_ingresada = input(\"Ingrese una palabra \")\n",
    "validacion_usuario(palabra_ingresada)\n"
   ]
  },
  {
   "cell_type": "markdown",
   "metadata": {},
   "source": [
    "Ejercicio 5 :Clasificación de velocidad de reacción en un juego\n",
    "\n",
    "Dado el tiempo de reacción de un jugador en milisegundos, clasifíquelo en las siguientes\n",
    "categorías:\n",
    "-Menos de 200 ms: Rápido\n",
    "-Entre 200 y 500 ms: Normal\n",
    "-Más de 500 ms: Lento"
   ]
  },
  {
   "cell_type": "code",
   "execution_count": 5,
   "metadata": {},
   "outputs": [
    {
     "name": "stdout",
     "output_type": "stream",
     "text": [
      "Categoria: Normal\n"
     ]
    }
   ],
   "source": [
    "tiempo = int(input(\" Ingrese su tiempo de reacción en ms: \"))\n",
    "\n",
    "velocidad_reaccion(tiempo)"
   ]
  },
  {
   "cell_type": "markdown",
   "metadata": {},
   "source": [
    "Ejercicio 6:  Análisis de descripciones de una plataforma de stream\n",
    "\n",
    "Dadas varias descripciones de streams en Twitch, cuente cuántas menciones hay de\n",
    "\"entretenimiento\", \"música\" y \"charla\"."
   ]
  },
  {
   "cell_type": "code",
   "execution_count": 6,
   "metadata": {},
   "outputs": [
    {
     "name": "stdout",
     "output_type": "stream",
     "text": [
      " Menciones de 'música' :  4\n",
      " Menciones de 'charla':  2\n",
      " Menciones de 'entretenimiento':  1\n"
     ]
    }
   ],
   "source": [
    "descriptions = [\n",
    "\"Streaming de música en vivo con covers y composiciones\",\n",
    "\"Charla interactiva con la audiencia sobre series y películas\",\n",
    "\"Jugamos a juegos retro y charlamos sobre su historia\",\n",
    "\"Exploramos la mejor música de los 80s y 90s\",\n",
    "\"Programa de entretenimiento con noticias y curiosidades del mundo gamer\",\n",
    "\"Sesión de charla con invitados especiales del mundo del streaming\",\n",
    "\"Música en directo con improvisaciones y peticiones del chat\",\n",
    "\"Un espacio para charlar relajada sobre tecnología y cultura digital\",\n",
    "\"Exploramos el impacto de la música en los videojuegos clásicos\"\n",
    "]\n",
    "\n",
    "contMusica= 0\n",
    "contCharla=0\n",
    "contEntreten=0\n",
    "\n",
    "menciones(descriptions,contMusica,contCharla,contEntreten)\n",
    "\n"
   ]
  },
  {
   "cell_type": "markdown",
   "metadata": {},
   "source": [
    "Ejercicio 7: Generador de códigos de descuento\n",
    "\n",
    "Genere un código de descuento aleatorio para un usuario en base a su nombre, la fecha\n",
    "actual y el resto deben ser números o letras aleatorias. El código debe tener una longitud de\n",
    "30 caracteres, todas las letras deben ser mayúsculas.\n",
    "El usuario debe ingresarse por teclado y debe validar que no exeda los 15 caracteres.\n"
   ]
  },
  {
   "cell_type": "code",
   "execution_count": null,
   "metadata": {},
   "outputs": [
    {
     "name": "stdout",
     "output_type": "stream",
     "text": [
      "JHGJGJH - 20250403 - WSTJJY34T6\n"
     ]
    }
   ],
   "source": [
    "import datetime\n",
    "\n",
    "\n",
    "\n",
    "usuario = input(\"Ingrese nombre de usuario: \")\n",
    "fecha = datetime.date.today()\n",
    "\n",
    "generador_codigo(usuario,fecha)\n",
    "\n"
   ]
  },
  {
   "cell_type": "markdown",
   "metadata": {},
   "source": [
    "Ejercicio 8: Identificación de anagramas\n",
    "\n",
    "Determine si dos palabras ingresadas son anagramas (contienen las mismas letras en diferente orden).\n"
   ]
  },
  {
   "cell_type": "code",
   "execution_count": 7,
   "metadata": {},
   "outputs": [
    {
     "name": "stdout",
     "output_type": "stream",
     "text": [
      "Son anagramas.\n"
     ]
    }
   ],
   "source": [
    "palabra1 = input(\"Ingrese la primera palabra: \")\n",
    "palabra2 = input(\"Ingrese la segunda palabra: \")\n",
    "\n",
    "son_anagramas(palabra1,palabra2)\n"
   ]
  },
  {
   "cell_type": "markdown",
   "metadata": {},
   "source": [
    "Ejercicio 9: Limpieza de Datos para un Sistema de Clientes\n",
    "\n",
    "-Eliminar espacios extra en los nombres.\n",
    "\n",
    "-Convertir todos los nombres a formato de título (primera letra en mayúscula y el resto en minúscula).\n",
    "\n",
    "-Eliminar registros duplicados para evitar clientes repetidos.\n",
    "\n",
    "-Eliminar valores vacíos o nulos, ya que no aportan información válida.\n",
    "\n",
    "-Mostrar la lista limpia de clientes listos para usar en el sistema de facturación.\n"
   ]
  },
  {
   "cell_type": "code",
   "execution_count": null,
   "metadata": {},
   "outputs": [
    {
     "name": "stdout",
     "output_type": "stream",
     "text": [
      "{'', 'Sandra Morales', 'María Martínez', 'Claudia Torres', 'Maria Martínez', 'Miguel Ángel', 'Alejandro González', 'Ana López', 'Pedro Gómez', 'Patricia Vega', 'Gabriela Ruíz', 'Andrés Ocampo', 'Carlos Mendes', 'Ricardo Fernández', 'Damián Castillo', 'Monica Herrera', 'Luis Rodríguez', 'Laura Ramos', 'Marta Suárez', 'Juan Pérez'}\n"
     ]
    }
   ],
   "source": [
    "clients = [\n",
    "\" Ana López \", \"Pedro Gómez\", \"maria martínez\", \"Pedro Gómez \", \"\",\n",
    "\" Luis Rodríguez \", None, \"ana lópez\", \"JUAN PÉREZ\", \"MARTA SUÁREZ\",\n",
    "\"luis rodríguez\", \"maría martínez \", \" claudia torres\", \"CLAUDIA TORRES\",\n",
    "\" \", \"pedro gómez\", \"Juan Pérez\", None, \"Ricardo Fernández\", \"LAURA RAMOS\",\n",
    "\"carlos mendes\", \"RICARDO FERNÁNDEZ \", \" Laura ramos\", \"CARLOS MENDES\",\n",
    "\"alejandro gonzález\", \" ALEJANDRO GONZÁLEZ \", \"Patricia Vega\",\n",
    "\"patricia VEGA\", \"Andrés Ocampo\", \" andrés ocampo\", \"Monica Herrera\",\n",
    "\"MONICA HERRERA \", \"gabriela ruíz\", \"Gabriela Ruíz\", \"sandra morales\",\n",
    "\"SANDRA MORALES\", \"miguel ángel\", \"Miguel Ángel \", \" Damián Castillo\",\n",
    "\"Damián Castillo \", None, \"\", \" \"\n",
    "]\n",
    "\n",
    "\n",
    "\n",
    "result = clear_name(clients)\n",
    "#con set lo convierto a conjuntos, y por su propiedad elimina los duplicaodos\n",
    "print(set(result))\n",
    "\n"
   ]
  },
  {
   "cell_type": "markdown",
   "metadata": {},
   "source": [
    "Ejercicio 10:  Simulación de partidas y ranking en shooter online\n",
    "\n"
   ]
  },
  {
   "cell_type": "code",
   "execution_count": 4,
   "metadata": {},
   "outputs": [
    {
     "name": "stdout",
     "output_type": "stream",
     "text": [
      "-Ranking Ronda 1\n",
      "Shadow - Kills: 2, Assists: 1, Deaths: True, Puntos: 6\n",
      "Blaze - Kills: 1, Assists: 0, Deaths: False, Puntos: 3\n",
      "Viper - Kills: 1, Assists: 2, Deaths: True, Puntos: 4\n",
      "Frost - Kills: 0, Assists: 1, Deaths: False, Puntos: 1\n",
      "Reaper - Kills: 1, Assists: 1, Deaths: False, Puntos: 4\n",
      "MVP de la ronda 1: Shadow\n",
      "-Ranking Ronda 2\n",
      "Shadow - Kills: 0, Assists: 2, Deaths: False, Puntos: 2\n",
      "Blaze - Kills: 2, Assists: 0, Deaths: True, Puntos: 5\n",
      "Viper - Kills: 1, Assists: 1, Deaths: False, Puntos: 4\n",
      "Frost - Kills: 2, Assists: 1, Deaths: True, Puntos: 6\n",
      "Reaper - Kills: 0, Assists: 1, Deaths: False, Puntos: 1\n",
      "MVP de la ronda 2: Frost\n",
      "-Ranking Ronda 3\n",
      "Shadow - Kills: 1, Assists: 0, Deaths: False, Puntos: 3\n",
      "Blaze - Kills: 2, Assists: 2, Deaths: True, Puntos: 7\n",
      "Viper - Kills: 1, Assists: 1, Deaths: True, Puntos: 3\n",
      "Frost - Kills: 0, Assists: 1, Deaths: False, Puntos: 1\n",
      "Reaper - Kills: 1, Assists: 1, Deaths: False, Puntos: 4\n",
      "MVP de la ronda 3: Blaze\n",
      "-Ranking Ronda 4\n",
      "Shadow - Kills: 2, Assists: 1, Deaths: False, Puntos: 7\n",
      "Blaze - Kills: 1, Assists: 0, Deaths: True, Puntos: 2\n",
      "Viper - Kills: 0, Assists: 2, Deaths: False, Puntos: 2\n",
      "Frost - Kills: 1, Assists: 1, Deaths: True, Puntos: 3\n",
      "Reaper - Kills: 1, Assists: 1, Deaths: False, Puntos: 4\n",
      "MVP de la ronda 4: Shadow\n",
      "-Ranking Ronda 5\n",
      "Shadow - Kills: 1, Assists: 2, Deaths: True, Puntos: 4\n",
      "Blaze - Kills: 0, Assists: 1, Deaths: False, Puntos: 1\n",
      "Viper - Kills: 2, Assists: 0, Deaths: True, Puntos: 5\n",
      "Frost - Kills: 1, Assists: 1, Deaths: False, Puntos: 4\n",
      "Reaper - Kills: 1, Assists: 1, Deaths: True, Puntos: 3\n",
      "MVP de la ronda 5: Viper\n",
      "\n",
      "Estadísticas finales:\n",
      "Shadow - Total Kills: 6, Total Assists: 6, Total Deaths: 2, MVPs: 2, Total Puntos: 22\n",
      "Blaze - Total Kills: 6, Total Assists: 3, Total Deaths: 3, MVPs: 1, Total Puntos: 18\n",
      "Viper - Total Kills: 5, Total Assists: 6, Total Deaths: 3, MVPs: 1, Total Puntos: 18\n",
      "Reaper - Total Kills: 4, Total Assists: 5, Total Deaths: 1, MVPs: 0, Total Puntos: 16\n",
      "Frost - Total Kills: 4, Total Assists: 5, Total Deaths: 2, MVPs: 1, Total Puntos: 15\n"
     ]
    }
   ],
   "source": [
    "rounds = [\n",
    "{\n",
    "'Shadow': {'kills': 2, 'assists': 1, 'deaths': True},\n",
    "'Blaze': {'kills': 1, 'assists': 0, 'deaths': False},\n",
    "'Viper': {'kills': 1, 'assists': 2, 'deaths': True},\n",
    "'Frost': {'kills': 0, 'assists': 1, 'deaths': False},\n",
    "'Reaper': {'kills': 1, 'assists': 1, 'deaths': False}\n",
    "},\n",
    "{\n",
    "'Shadow': {'kills': 0, 'assists': 2, 'deaths': False},\n",
    "'Blaze': {'kills': 2, 'assists': 0, 'deaths': True},\n",
    "'Viper': {'kills': 1, 'assists': 1, 'deaths': False},\n",
    "'Frost': {'kills': 2, 'assists': 1, 'deaths': True},\n",
    "'Reaper': {'kills': 0, 'assists': 1, 'deaths': False}\n",
    "},\n",
    "{\n",
    "'Shadow': {'kills': 1, 'assists': 0, 'deaths': False},\n",
    "'Blaze': {'kills': 2, 'assists': 2, 'deaths': True},\n",
    "'Viper': {'kills': 1, 'assists': 1, 'deaths': True},\n",
    "'Frost': {'kills': 0, 'assists': 1, 'deaths': False},\n",
    "'Reaper': {'kills': 1, 'assists': 1, 'deaths': False}\n",
    "},\n",
    "{\n",
    "'Shadow': {'kills': 2, 'assists': 1, 'deaths': False},\n",
    "'Blaze': {'kills': 1, 'assists': 0, 'deaths': True},\n",
    "'Viper': {'kills': 0, 'assists': 2, 'deaths': False},\n",
    "'Frost': {'kills': 1, 'assists': 1, 'deaths': True},\n",
    "'Reaper': {'kills': 1, 'assists': 1, 'deaths': False}\n",
    "},\n",
    "{\n",
    "'Shadow': {'kills': 1, 'assists': 2, 'deaths': True},\n",
    "'Blaze': {'kills': 0, 'assists': 1, 'deaths': False},\n",
    "'Viper': {'kills': 2, 'assists': 0, 'deaths': True},\n",
    "'Frost': {'kills': 1, 'assists': 1, 'deaths': False},\n",
    "'Reaper': {'kills': 1, 'assists': 1, 'deaths': True}\n",
    "}\n",
    "]\n",
    "\n",
    "#puntuaciones\n",
    "kill = 3\n",
    "asistencias = 1\n",
    "muertes = -1\n",
    "\n",
    "ranking_final(rounds,kill,asistencias,muertes)"
   ]
  }
 ],
 "metadata": {
  "kernelspec": {
   "display_name": "venv",
   "language": "python",
   "name": "python3"
  },
  "language_info": {
   "codemirror_mode": {
    "name": "ipython",
    "version": 3
   },
   "file_extension": ".py",
   "mimetype": "text/x-python",
   "name": "python",
   "nbconvert_exporter": "python",
   "pygments_lexer": "ipython3",
   "version": "3.12.3"
  }
 },
 "nbformat": 4,
 "nbformat_minor": 2
}
