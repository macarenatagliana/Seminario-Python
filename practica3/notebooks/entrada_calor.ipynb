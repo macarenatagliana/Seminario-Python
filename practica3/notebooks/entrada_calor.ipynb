{
 "cells": [
  {
   "cell_type": "markdown",
   "metadata": {},
   "source": [
    "- Carguen el archivo perteneciente al tercer trimestre del 2024 e informe cuántos\n",
    "varones y mujeres representa el dataset.\n",
    "Ayuda: recuerden ponderar los datos. Columna de interés: CH04.\n",
    "- Informen cuántas personas mayores de edad han completado los estudios\n",
    "secundarios.\n",
    "- Informen el porcentaje de viviendas que son ocupadas por el/la propietario/a de la\n",
    "vivienda y del terreno.\n",
    "- Informen el aglomerado con mayor y menor cantidad de viviendas con más de 2\n",
    "ocupantes que no posean baño.\n",
    "\n",
    "/base personas pagina 17\n"
   ]
  },
  {
   "cell_type": "code",
   "execution_count": 7,
   "metadata": {},
   "outputs": [],
   "source": [
    "import sys\n",
    "import os\n",
    "\n",
    "sys.path.append(os.path.abspath(\"../src\"))\n"
   ]
  },
  {
   "cell_type": "code",
   "execution_count": 2,
   "metadata": {},
   "outputs": [
    {
     "name": "stdout",
     "output_type": "stream",
     "text": [
      "Total Mujeres: 15248344 || Total Hombres: 14471801\n"
     ]
    }
   ],
   "source": [
    "import csv\n",
    "path_file = '../datos/usu_individual_T324.txt'\n",
    "CHO4_INDEX = 11 # 1 = Varon || 2 = Mujer \n",
    "PONDERA_INDEX = 9\n",
    "\n",
    "contador_m = 0\n",
    "contador_f = 0\n",
    "with open(path_file, encoding='utf-8') as archivo_csv:\n",
    "    reader = csv.reader(archivo_csv, delimiter=';')\n",
    "    encabezado = next(reader) # Salteo de encabezado\n",
    "    \n",
    "    for row in reader:\n",
    "        if row[CHO4_INDEX] == '1':\n",
    "            contador_m = contador_m + (1 * int(row[PONDERA_INDEX])) # Ponderacion\n",
    "        else:\n",
    "            contador_f = contador_f + (1 * int(row[PONDERA_INDEX])) # Ponderacion\n",
    "print(\"Total Mujeres: \" + str(contador_f) + \" || Total Hombres: \" + str(contador_m))"
   ]
  },
  {
   "cell_type": "code",
   "execution_count": 25,
   "metadata": {},
   "outputs": [
    {
     "name": "stdout",
     "output_type": "stream",
     "text": [
      "Total: 6044089\n"
     ]
    }
   ],
   "source": [
    "import csv\n",
    "path_file = '../datos/usu_individual_T324.txt'\n",
    "NIVEL_ED = 26 # 4-estudios secundarios completos\n",
    "CH06= 13 # edad\n",
    "PONDERA_INDEX = 9\n",
    "\n",
    "contador = 0\n",
    "with open(path_file) as individuos_csv:\n",
    "    reader = csv.reader(individuos_csv, delimiter=';')\n",
    "    encabezado = next(reader) # Salteo de encabezado\n",
    "    for row in reader:\n",
    "        if row[CH06] >= '18' and row[NIVEL_ED] == '4':\n",
    "            contador = contador + (1*int(row[PONDERA_INDEX]))\n",
    "\n",
    "\n",
    "\n",
    "\n",
    "\n",
    "print(\"Total: \" + str(contador))\n"
   ]
  },
  {
   "cell_type": "code",
   "execution_count": null,
   "metadata": {},
   "outputs": [
    {
     "name": "stdout",
     "output_type": "stream",
     "text": [
      "8\n"
     ]
    }
   ],
   "source": [
    "import csv\n",
    "path_file = '../datos/usu_hogar_T324.txt'\n",
    "II7 = 37 # 01 = Propietario de la vivienda y el terreno\n",
    "PONDERA_INDEX = 8\n",
    "\n",
    "porcentaje = 0\n",
    "with open(path_file) as hogar_csv:\n",
    "    reader = csv.reader(hogar_csv, delimiter=';')\n",
    "    encabezado = next(reader) # Salteo de encabezado\n",
    "    #print(encabezado.index('PONDERA'))\n",
    "    for row in reader:\n",
    "        if row[II7] == '01':\n",
    "            contador = contador + (1*int(row[PONDERA_INDEX]))\n",
    "            pondera_total \n",
    "    porcentaje = contador "
   ]
  },
  {
   "cell_type": "code",
   "execution_count": 39,
   "metadata": {},
   "outputs": [
    {
     "name": "stdout",
     "output_type": "stream",
     "text": [
      "Aglomerado maximo: 33 Aglomerado minimo: 36\n"
     ]
    }
   ],
   "source": [
    "import csv\n",
    "path_file = '../datos/usu_hogar_T324.txt'\n",
    "AGLOMERADO = 7\n",
    "PONDERA_INDEX = 8\n",
    "pondera_max = 0\n",
    "pondera_min = 99999999\n",
    "aglomerado_max = None\n",
    "aglomerado_min = None\n",
    "contador = 0\n",
    "IX_TOT = 64 #ocupantes por vivienda\n",
    "IV8 = 19 # 2-sin baño\n",
    "\n",
    "\n",
    "with open(path_file) as hogar_csv:\n",
    "    reader = csv.reader(hogar_csv, delimiter=';')\n",
    "    encabezado = next(reader) # Salteo de encabezado\n",
    "    #print(encabezado.index('PONDERA'))\n",
    "    for row in reader:\n",
    "        if row[IX_TOT] > '2' and row[IV8] == '2':\n",
    "            pondera = int(row[PONDERA_INDEX])\n",
    "            contador += pondera\n",
    "\n",
    "            if pondera > pondera_max:\n",
    "                pondera_max = pondera\n",
    "                aglomerado_max = row[AGLOMERADO]\n",
    "\n",
    "            if pondera < pondera_min:\n",
    "                pondera_min = pondera\n",
    "                aglomerado_min = row[AGLOMERADO]\n",
    "            \n",
    "\n",
    "\n",
    "\n",
    "\n",
    "\n",
    "print(\"Aglomerado maximo: \" + str((aglomerado_max))+ \" Aglomerado minimo: \" + str((aglomerado_min)) )\n",
    "\n",
    "\n",
    "#- Informen el aglomerado con mayor y menor cantidad de viviendas con más de 2 ocupantes que no posean baño."
   ]
  }
 ],
 "metadata": {
  "kernelspec": {
   "display_name": "venv",
   "language": "python",
   "name": "python3"
  },
  "language_info": {
   "codemirror_mode": {
    "name": "ipython",
    "version": 3
   },
   "file_extension": ".py",
   "mimetype": "text/x-python",
   "name": "python",
   "nbconvert_exporter": "python",
   "pygments_lexer": "ipython3",
   "version": "3.12.3"
  }
 },
 "nbformat": 4,
 "nbformat_minor": 2
}
